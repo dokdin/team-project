{
 "metadata": {
  "language_info": {
   "codemirror_mode": {
    "name": "ipython",
    "version": 3
   },
   "file_extension": ".py",
   "mimetype": "text/x-python",
   "name": "python",
   "nbconvert_exporter": "python",
   "pygments_lexer": "ipython3",
   "version": "3.8.3-final"
  },
  "orig_nbformat": 2,
  "kernelspec": {
   "name": "python3",
   "display_name": "Python 3"
  }
 },
 "nbformat": 4,
 "nbformat_minor": 2,
 "cells": [
  {
   "cell_type": "code",
   "execution_count": 1,
   "metadata": {},
   "outputs": [
    {
     "output_type": "execute_result",
     "data": {
      "text/plain": [
       "                       NM GUBUN BF1_TOT_FLOOR BF1_FST_FLOOR BF1_EX_FLOOR  \\\n",
       "0                   서울시전체    si        114948        131016        96707   \n",
       "1                     종로구    gu        184919        217763       155681   \n",
       "2               계동길 (가회동)  dong        143504        164337       101838   \n",
       "3           난계로27길 (숭인2동)  dong        112278        169559        57791   \n",
       "4  돈화문로11가길 (종로1.2.3.4가동)  dong        188843        257637       107868   \n",
       "\n",
       "  BF2_TOT_FLOOR BF2_FST_FLOOR BF2_EX_FLOOR BF3_TOT_FLOOR BF3_FST_FLOOR  \\\n",
       "0        116984        132986        99721        120854        135148   \n",
       "1        183435        217272       152261        175410        214855   \n",
       "2        128907        134200       111263        149372        168159   \n",
       "3        105563        128987        71806         83098        120490   \n",
       "4        197742        271591       115139        195669        259583   \n",
       "\n",
       "  BF3_EX_FLOOR  \n",
       "0       106287  \n",
       "1       142856  \n",
       "2       108040  \n",
       "3        57131  \n",
       "4       130183  "
      ],
      "text/html": "<div>\n<style scoped>\n    .dataframe tbody tr th:only-of-type {\n        vertical-align: middle;\n    }\n\n    .dataframe tbody tr th {\n        vertical-align: top;\n    }\n\n    .dataframe thead th {\n        text-align: right;\n    }\n</style>\n<table border=\"1\" class=\"dataframe\">\n  <thead>\n    <tr style=\"text-align: right;\">\n      <th></th>\n      <th>NM</th>\n      <th>GUBUN</th>\n      <th>BF1_TOT_FLOOR</th>\n      <th>BF1_FST_FLOOR</th>\n      <th>BF1_EX_FLOOR</th>\n      <th>BF2_TOT_FLOOR</th>\n      <th>BF2_FST_FLOOR</th>\n      <th>BF2_EX_FLOOR</th>\n      <th>BF3_TOT_FLOOR</th>\n      <th>BF3_FST_FLOOR</th>\n      <th>BF3_EX_FLOOR</th>\n    </tr>\n  </thead>\n  <tbody>\n    <tr>\n      <th>0</th>\n      <td>서울시전체</td>\n      <td>si</td>\n      <td>114948</td>\n      <td>131016</td>\n      <td>96707</td>\n      <td>116984</td>\n      <td>132986</td>\n      <td>99721</td>\n      <td>120854</td>\n      <td>135148</td>\n      <td>106287</td>\n    </tr>\n    <tr>\n      <th>1</th>\n      <td>종로구</td>\n      <td>gu</td>\n      <td>184919</td>\n      <td>217763</td>\n      <td>155681</td>\n      <td>183435</td>\n      <td>217272</td>\n      <td>152261</td>\n      <td>175410</td>\n      <td>214855</td>\n      <td>142856</td>\n    </tr>\n    <tr>\n      <th>2</th>\n      <td>계동길 (가회동)</td>\n      <td>dong</td>\n      <td>143504</td>\n      <td>164337</td>\n      <td>101838</td>\n      <td>128907</td>\n      <td>134200</td>\n      <td>111263</td>\n      <td>149372</td>\n      <td>168159</td>\n      <td>108040</td>\n    </tr>\n    <tr>\n      <th>3</th>\n      <td>난계로27길 (숭인2동)</td>\n      <td>dong</td>\n      <td>112278</td>\n      <td>169559</td>\n      <td>57791</td>\n      <td>105563</td>\n      <td>128987</td>\n      <td>71806</td>\n      <td>83098</td>\n      <td>120490</td>\n      <td>57131</td>\n    </tr>\n    <tr>\n      <th>4</th>\n      <td>돈화문로11가길 (종로1.2.3.4가동)</td>\n      <td>dong</td>\n      <td>188843</td>\n      <td>257637</td>\n      <td>107868</td>\n      <td>197742</td>\n      <td>271591</td>\n      <td>115139</td>\n      <td>195669</td>\n      <td>259583</td>\n      <td>130183</td>\n    </tr>\n  </tbody>\n</table>\n</div>"
     },
     "metadata": {},
     "execution_count": 1
    }
   ],
   "source": [
    "import json # import json module\n",
    "import pandas as pd\n",
    "with open('18~20 1분기 임대료.json', encoding='UTF-8') as json_file:\n",
    "    data = json.load(json_file)\n",
    "    df1 = pd.DataFrame(data)\n",
    "df1.head()"
   ]
  },
  {
   "cell_type": "code",
   "execution_count": 2,
   "metadata": {},
   "outputs": [
    {
     "output_type": "execute_result",
     "data": {
      "text/plain": [
       "                          주소 18년 임대료 19년 임대료\n",
       "0                      서울시전체  131016  132986\n",
       "1                        종로구  217763  217272\n",
       "2                  계동길 (가회동)  164337  134200\n",
       "3              난계로27길 (숭인2동)  169559  128987\n",
       "4     돈화문로11가길 (종로1.2.3.4가동)  257637  271591\n",
       "...                      ...     ...     ...\n",
       "1031           천호대로197길 (길동)  108313  115451\n",
       "1032          천호대로219길 (상일동)   81857   77462\n",
       "1033           천호옛14길 (성내2동)  115232  114348\n",
       "1034             천호옛길 (성내2동)  115232  114348\n",
       "1035          풍성로37가길 (성내2동)  115232  114348\n",
       "\n",
       "[1036 rows x 3 columns]"
      ],
      "text/html": "<div>\n<style scoped>\n    .dataframe tbody tr th:only-of-type {\n        vertical-align: middle;\n    }\n\n    .dataframe tbody tr th {\n        vertical-align: top;\n    }\n\n    .dataframe thead th {\n        text-align: right;\n    }\n</style>\n<table border=\"1\" class=\"dataframe\">\n  <thead>\n    <tr style=\"text-align: right;\">\n      <th></th>\n      <th>주소</th>\n      <th>18년 임대료</th>\n      <th>19년 임대료</th>\n    </tr>\n  </thead>\n  <tbody>\n    <tr>\n      <th>0</th>\n      <td>서울시전체</td>\n      <td>131016</td>\n      <td>132986</td>\n    </tr>\n    <tr>\n      <th>1</th>\n      <td>종로구</td>\n      <td>217763</td>\n      <td>217272</td>\n    </tr>\n    <tr>\n      <th>2</th>\n      <td>계동길 (가회동)</td>\n      <td>164337</td>\n      <td>134200</td>\n    </tr>\n    <tr>\n      <th>3</th>\n      <td>난계로27길 (숭인2동)</td>\n      <td>169559</td>\n      <td>128987</td>\n    </tr>\n    <tr>\n      <th>4</th>\n      <td>돈화문로11가길 (종로1.2.3.4가동)</td>\n      <td>257637</td>\n      <td>271591</td>\n    </tr>\n    <tr>\n      <th>...</th>\n      <td>...</td>\n      <td>...</td>\n      <td>...</td>\n    </tr>\n    <tr>\n      <th>1031</th>\n      <td>천호대로197길 (길동)</td>\n      <td>108313</td>\n      <td>115451</td>\n    </tr>\n    <tr>\n      <th>1032</th>\n      <td>천호대로219길 (상일동)</td>\n      <td>81857</td>\n      <td>77462</td>\n    </tr>\n    <tr>\n      <th>1033</th>\n      <td>천호옛14길 (성내2동)</td>\n      <td>115232</td>\n      <td>114348</td>\n    </tr>\n    <tr>\n      <th>1034</th>\n      <td>천호옛길 (성내2동)</td>\n      <td>115232</td>\n      <td>114348</td>\n    </tr>\n    <tr>\n      <th>1035</th>\n      <td>풍성로37가길 (성내2동)</td>\n      <td>115232</td>\n      <td>114348</td>\n    </tr>\n  </tbody>\n</table>\n<p>1036 rows × 3 columns</p>\n</div>"
     },
     "metadata": {},
     "execution_count": 2
    }
   ],
   "source": [
    "cols=['NM', 'BF1_FST_FLOOR', 'BF2_FST_FLOOR']\n",
    "colnames=['주소', '18년 임대료', '19년 임대료']\n",
    "df1 = df1[cols]\n",
    "for i in range(len(cols)) :\n",
    "    df1.rename(columns= {cols[i]:colnames[i]}, inplace = True)\n",
    "df1"
   ]
  },
  {
   "cell_type": "code",
   "execution_count": 3,
   "metadata": {},
   "outputs": [
    {
     "output_type": "execute_result",
     "data": {
      "text/plain": [
       "                          주소 15년 임대료 16년 임대료 17년 임대료\n",
       "0                      서울시전체  115456  120802  122453\n",
       "1                        종로구  196464  200560  207788\n",
       "2                  계동길 (가회동)  207844  170226  143968\n",
       "3              난계로27길 (숭인2동)  123899  160987  125576\n",
       "4     돈화문로11가길 (종로1.2.3.4가동)  235473  225870  255062\n",
       "...                      ...     ...     ...     ...\n",
       "1031           천호대로197길 (길동)   99478  110465  108907\n",
       "1032          천호대로219길 (상일동)   57980   73740   78006\n",
       "1033           천호옛14길 (성내2동)  118404  103862  102767\n",
       "1034             천호옛길 (성내2동)  118404  103862  102767\n",
       "1035          풍성로37가길 (성내2동)  118404  103862  102767\n",
       "\n",
       "[1036 rows x 4 columns]"
      ],
      "text/html": "<div>\n<style scoped>\n    .dataframe tbody tr th:only-of-type {\n        vertical-align: middle;\n    }\n\n    .dataframe tbody tr th {\n        vertical-align: top;\n    }\n\n    .dataframe thead th {\n        text-align: right;\n    }\n</style>\n<table border=\"1\" class=\"dataframe\">\n  <thead>\n    <tr style=\"text-align: right;\">\n      <th></th>\n      <th>주소</th>\n      <th>15년 임대료</th>\n      <th>16년 임대료</th>\n      <th>17년 임대료</th>\n    </tr>\n  </thead>\n  <tbody>\n    <tr>\n      <th>0</th>\n      <td>서울시전체</td>\n      <td>115456</td>\n      <td>120802</td>\n      <td>122453</td>\n    </tr>\n    <tr>\n      <th>1</th>\n      <td>종로구</td>\n      <td>196464</td>\n      <td>200560</td>\n      <td>207788</td>\n    </tr>\n    <tr>\n      <th>2</th>\n      <td>계동길 (가회동)</td>\n      <td>207844</td>\n      <td>170226</td>\n      <td>143968</td>\n    </tr>\n    <tr>\n      <th>3</th>\n      <td>난계로27길 (숭인2동)</td>\n      <td>123899</td>\n      <td>160987</td>\n      <td>125576</td>\n    </tr>\n    <tr>\n      <th>4</th>\n      <td>돈화문로11가길 (종로1.2.3.4가동)</td>\n      <td>235473</td>\n      <td>225870</td>\n      <td>255062</td>\n    </tr>\n    <tr>\n      <th>...</th>\n      <td>...</td>\n      <td>...</td>\n      <td>...</td>\n      <td>...</td>\n    </tr>\n    <tr>\n      <th>1031</th>\n      <td>천호대로197길 (길동)</td>\n      <td>99478</td>\n      <td>110465</td>\n      <td>108907</td>\n    </tr>\n    <tr>\n      <th>1032</th>\n      <td>천호대로219길 (상일동)</td>\n      <td>57980</td>\n      <td>73740</td>\n      <td>78006</td>\n    </tr>\n    <tr>\n      <th>1033</th>\n      <td>천호옛14길 (성내2동)</td>\n      <td>118404</td>\n      <td>103862</td>\n      <td>102767</td>\n    </tr>\n    <tr>\n      <th>1034</th>\n      <td>천호옛길 (성내2동)</td>\n      <td>118404</td>\n      <td>103862</td>\n      <td>102767</td>\n    </tr>\n    <tr>\n      <th>1035</th>\n      <td>풍성로37가길 (성내2동)</td>\n      <td>118404</td>\n      <td>103862</td>\n      <td>102767</td>\n    </tr>\n  </tbody>\n</table>\n<p>1036 rows × 4 columns</p>\n</div>"
     },
     "metadata": {},
     "execution_count": 3
    }
   ],
   "source": [
    "with open('15~17 1분기 임대료.json', encoding='UTF-8') as json_file:\n",
    "    data = json.load(json_file)\n",
    "    df2 = pd.DataFrame(data)\n",
    "cols=['NM', 'BF1_FST_FLOOR', 'BF2_FST_FLOOR', 'BF3_FST_FLOOR']\n",
    "colnames=['주소', '15년 임대료', '16년 임대료', '17년 임대료']\n",
    "df2 = df2[cols]\n",
    "for i in range(len(cols)) :\n",
    "    df2.rename(columns= {cols[i]:colnames[i]}, inplace = True)\n",
    "df2"
   ]
  },
  {
   "source": [
    "dong=[]\n",
    "eighteen=[]\n",
    "nineteen=[]\n",
    "current=[]\n",
    "for i in range(0,len(df1)):\n",
    "    if '(' in df1.iloc[i,0]:\n",
    "        dong.append(df1.iloc[i,0].split(\" \")[0])\n",
    "        eighteen.append(df1.iloc[i,1])\n",
    "        nineteen.append(df1.iloc[i,2])"
   ],
   "cell_type": "code",
   "metadata": {},
   "execution_count": 4,
   "outputs": []
  },
  {
   "cell_type": "code",
   "execution_count": 5,
   "metadata": {},
   "outputs": [],
   "source": [
    "df=pd.DataFrame({'동':dong,\n",
    "'18년도': eighteen,\n",
    "'19년도': nineteen})\n"
   ]
  },
  {
   "cell_type": "code",
   "execution_count": 6,
   "metadata": {},
   "outputs": [
    {
     "output_type": "execute_result",
     "data": {
      "text/plain": [
       "             동    18년도    19년도\n",
       "0          계동길  164337  134200\n",
       "1       난계로27길  169559  128987\n",
       "2     돈화문로11가길  257637  271591\n",
       "3          명륜길  145130  168065\n",
       "4         백석동길  122674   99955\n",
       "...        ...     ...     ...\n",
       "1005  천호대로197길  108313  115451\n",
       "1006  천호대로219길   81857   77462\n",
       "1007    천호옛14길  115232  114348\n",
       "1008      천호옛길  115232  114348\n",
       "1009   풍성로37가길  115232  114348\n",
       "\n",
       "[1010 rows x 3 columns]"
      ],
      "text/html": "<div>\n<style scoped>\n    .dataframe tbody tr th:only-of-type {\n        vertical-align: middle;\n    }\n\n    .dataframe tbody tr th {\n        vertical-align: top;\n    }\n\n    .dataframe thead th {\n        text-align: right;\n    }\n</style>\n<table border=\"1\" class=\"dataframe\">\n  <thead>\n    <tr style=\"text-align: right;\">\n      <th></th>\n      <th>동</th>\n      <th>18년도</th>\n      <th>19년도</th>\n    </tr>\n  </thead>\n  <tbody>\n    <tr>\n      <th>0</th>\n      <td>계동길</td>\n      <td>164337</td>\n      <td>134200</td>\n    </tr>\n    <tr>\n      <th>1</th>\n      <td>난계로27길</td>\n      <td>169559</td>\n      <td>128987</td>\n    </tr>\n    <tr>\n      <th>2</th>\n      <td>돈화문로11가길</td>\n      <td>257637</td>\n      <td>271591</td>\n    </tr>\n    <tr>\n      <th>3</th>\n      <td>명륜길</td>\n      <td>145130</td>\n      <td>168065</td>\n    </tr>\n    <tr>\n      <th>4</th>\n      <td>백석동길</td>\n      <td>122674</td>\n      <td>99955</td>\n    </tr>\n    <tr>\n      <th>...</th>\n      <td>...</td>\n      <td>...</td>\n      <td>...</td>\n    </tr>\n    <tr>\n      <th>1005</th>\n      <td>천호대로197길</td>\n      <td>108313</td>\n      <td>115451</td>\n    </tr>\n    <tr>\n      <th>1006</th>\n      <td>천호대로219길</td>\n      <td>81857</td>\n      <td>77462</td>\n    </tr>\n    <tr>\n      <th>1007</th>\n      <td>천호옛14길</td>\n      <td>115232</td>\n      <td>114348</td>\n    </tr>\n    <tr>\n      <th>1008</th>\n      <td>천호옛길</td>\n      <td>115232</td>\n      <td>114348</td>\n    </tr>\n    <tr>\n      <th>1009</th>\n      <td>풍성로37가길</td>\n      <td>115232</td>\n      <td>114348</td>\n    </tr>\n  </tbody>\n</table>\n<p>1010 rows × 3 columns</p>\n</div>"
     },
     "metadata": {},
     "execution_count": 6
    }
   ],
   "source": [
    "df"
   ]
  },
  {
   "cell_type": "code",
   "execution_count": 7,
   "metadata": {},
   "outputs": [
    {
     "output_type": "execute_result",
     "data": {
      "text/plain": [
       "                          주소 15년 임대료 16년 임대료 17년 임대료\n",
       "0                      서울시전체  115456  120802  122453\n",
       "1                        종로구  196464  200560  207788\n",
       "2                  계동길 (가회동)  207844  170226  143968\n",
       "3              난계로27길 (숭인2동)  123899  160987  125576\n",
       "4     돈화문로11가길 (종로1.2.3.4가동)  235473  225870  255062\n",
       "...                      ...     ...     ...     ...\n",
       "1031           천호대로197길 (길동)   99478  110465  108907\n",
       "1032          천호대로219길 (상일동)   57980   73740   78006\n",
       "1033           천호옛14길 (성내2동)  118404  103862  102767\n",
       "1034             천호옛길 (성내2동)  118404  103862  102767\n",
       "1035          풍성로37가길 (성내2동)  118404  103862  102767\n",
       "\n",
       "[1036 rows x 4 columns]"
      ],
      "text/html": "<div>\n<style scoped>\n    .dataframe tbody tr th:only-of-type {\n        vertical-align: middle;\n    }\n\n    .dataframe tbody tr th {\n        vertical-align: top;\n    }\n\n    .dataframe thead th {\n        text-align: right;\n    }\n</style>\n<table border=\"1\" class=\"dataframe\">\n  <thead>\n    <tr style=\"text-align: right;\">\n      <th></th>\n      <th>주소</th>\n      <th>15년 임대료</th>\n      <th>16년 임대료</th>\n      <th>17년 임대료</th>\n    </tr>\n  </thead>\n  <tbody>\n    <tr>\n      <th>0</th>\n      <td>서울시전체</td>\n      <td>115456</td>\n      <td>120802</td>\n      <td>122453</td>\n    </tr>\n    <tr>\n      <th>1</th>\n      <td>종로구</td>\n      <td>196464</td>\n      <td>200560</td>\n      <td>207788</td>\n    </tr>\n    <tr>\n      <th>2</th>\n      <td>계동길 (가회동)</td>\n      <td>207844</td>\n      <td>170226</td>\n      <td>143968</td>\n    </tr>\n    <tr>\n      <th>3</th>\n      <td>난계로27길 (숭인2동)</td>\n      <td>123899</td>\n      <td>160987</td>\n      <td>125576</td>\n    </tr>\n    <tr>\n      <th>4</th>\n      <td>돈화문로11가길 (종로1.2.3.4가동)</td>\n      <td>235473</td>\n      <td>225870</td>\n      <td>255062</td>\n    </tr>\n    <tr>\n      <th>...</th>\n      <td>...</td>\n      <td>...</td>\n      <td>...</td>\n      <td>...</td>\n    </tr>\n    <tr>\n      <th>1031</th>\n      <td>천호대로197길 (길동)</td>\n      <td>99478</td>\n      <td>110465</td>\n      <td>108907</td>\n    </tr>\n    <tr>\n      <th>1032</th>\n      <td>천호대로219길 (상일동)</td>\n      <td>57980</td>\n      <td>73740</td>\n      <td>78006</td>\n    </tr>\n    <tr>\n      <th>1033</th>\n      <td>천호옛14길 (성내2동)</td>\n      <td>118404</td>\n      <td>103862</td>\n      <td>102767</td>\n    </tr>\n    <tr>\n      <th>1034</th>\n      <td>천호옛길 (성내2동)</td>\n      <td>118404</td>\n      <td>103862</td>\n      <td>102767</td>\n    </tr>\n    <tr>\n      <th>1035</th>\n      <td>풍성로37가길 (성내2동)</td>\n      <td>118404</td>\n      <td>103862</td>\n      <td>102767</td>\n    </tr>\n  </tbody>\n</table>\n<p>1036 rows × 4 columns</p>\n</div>"
     },
     "metadata": {},
     "execution_count": 7
    }
   ],
   "source": [
    "df2"
   ]
  },
  {
   "cell_type": "code",
   "execution_count": 8,
   "metadata": {},
   "outputs": [],
   "source": [
    " fifteen=[]\n",
    "sixteen=[]\n",
    "seventeen=[]\n",
    "for i in range(0,len(df2)):\n",
    "    if '(' in df2.iloc[i,0]:\n",
    "        # dong.append(df2.iloc[i,0].split(\" \")[0])\n",
    "        fifteen.append(df2.iloc[i,1])\n",
    "        sixteen.append(df2.iloc[i,2])\n",
    "        seventeen.append(df2.iloc[i,3])\n",
    "\n"
   ]
  },
  {
   "cell_type": "code",
   "execution_count": 9,
   "metadata": {},
   "outputs": [
    {
     "output_type": "execute_result",
     "data": {
      "text/plain": [
       "1010"
      ]
     },
     "metadata": {},
     "execution_count": 9
    }
   ],
   "source": [
    "len(dong)"
   ]
  },
  {
   "cell_type": "code",
   "execution_count": 10,
   "metadata": {},
   "outputs": [],
   "source": [
    "df2=pd.DataFrame({'동':dong,\n",
    "'15년도': fifteen,\n",
    "'16년도': sixteen,\n",
    "'17년도': seventeen})\n"
   ]
  },
  {
   "cell_type": "code",
   "execution_count": 11,
   "metadata": {},
   "outputs": [
    {
     "output_type": "execute_result",
     "data": {
      "text/plain": [
       "                          주소 18년 임대료 19년 임대료\n",
       "0                      서울시전체  131016  132986\n",
       "1                        종로구  217763  217272\n",
       "2                  계동길 (가회동)  164337  134200\n",
       "3              난계로27길 (숭인2동)  169559  128987\n",
       "4     돈화문로11가길 (종로1.2.3.4가동)  257637  271591\n",
       "...                      ...     ...     ...\n",
       "1031           천호대로197길 (길동)  108313  115451\n",
       "1032          천호대로219길 (상일동)   81857   77462\n",
       "1033           천호옛14길 (성내2동)  115232  114348\n",
       "1034             천호옛길 (성내2동)  115232  114348\n",
       "1035          풍성로37가길 (성내2동)  115232  114348\n",
       "\n",
       "[1036 rows x 3 columns]"
      ],
      "text/html": "<div>\n<style scoped>\n    .dataframe tbody tr th:only-of-type {\n        vertical-align: middle;\n    }\n\n    .dataframe tbody tr th {\n        vertical-align: top;\n    }\n\n    .dataframe thead th {\n        text-align: right;\n    }\n</style>\n<table border=\"1\" class=\"dataframe\">\n  <thead>\n    <tr style=\"text-align: right;\">\n      <th></th>\n      <th>주소</th>\n      <th>18년 임대료</th>\n      <th>19년 임대료</th>\n    </tr>\n  </thead>\n  <tbody>\n    <tr>\n      <th>0</th>\n      <td>서울시전체</td>\n      <td>131016</td>\n      <td>132986</td>\n    </tr>\n    <tr>\n      <th>1</th>\n      <td>종로구</td>\n      <td>217763</td>\n      <td>217272</td>\n    </tr>\n    <tr>\n      <th>2</th>\n      <td>계동길 (가회동)</td>\n      <td>164337</td>\n      <td>134200</td>\n    </tr>\n    <tr>\n      <th>3</th>\n      <td>난계로27길 (숭인2동)</td>\n      <td>169559</td>\n      <td>128987</td>\n    </tr>\n    <tr>\n      <th>4</th>\n      <td>돈화문로11가길 (종로1.2.3.4가동)</td>\n      <td>257637</td>\n      <td>271591</td>\n    </tr>\n    <tr>\n      <th>...</th>\n      <td>...</td>\n      <td>...</td>\n      <td>...</td>\n    </tr>\n    <tr>\n      <th>1031</th>\n      <td>천호대로197길 (길동)</td>\n      <td>108313</td>\n      <td>115451</td>\n    </tr>\n    <tr>\n      <th>1032</th>\n      <td>천호대로219길 (상일동)</td>\n      <td>81857</td>\n      <td>77462</td>\n    </tr>\n    <tr>\n      <th>1033</th>\n      <td>천호옛14길 (성내2동)</td>\n      <td>115232</td>\n      <td>114348</td>\n    </tr>\n    <tr>\n      <th>1034</th>\n      <td>천호옛길 (성내2동)</td>\n      <td>115232</td>\n      <td>114348</td>\n    </tr>\n    <tr>\n      <th>1035</th>\n      <td>풍성로37가길 (성내2동)</td>\n      <td>115232</td>\n      <td>114348</td>\n    </tr>\n  </tbody>\n</table>\n<p>1036 rows × 3 columns</p>\n</div>"
     },
     "metadata": {},
     "execution_count": 11
    }
   ],
   "source": [
    "df1"
   ]
  },
  {
   "cell_type": "code",
   "execution_count": 12,
   "metadata": {},
   "outputs": [
    {
     "output_type": "execute_result",
     "data": {
      "text/plain": [
       "             동    15년도    16년도    17년도\n",
       "0          계동길  207844  170226  143968\n",
       "1       난계로27길  123899  160987  125576\n",
       "2     돈화문로11가길  235473  225870  255062\n",
       "3          명륜길  160483  154515  152953\n",
       "4         백석동길   89782  107941   99467\n",
       "...        ...     ...     ...     ...\n",
       "1005  천호대로197길   99478  110465  108907\n",
       "1006  천호대로219길   57980   73740   78006\n",
       "1007    천호옛14길  118404  103862  102767\n",
       "1008      천호옛길  118404  103862  102767\n",
       "1009   풍성로37가길  118404  103862  102767\n",
       "\n",
       "[1010 rows x 4 columns]"
      ],
      "text/html": "<div>\n<style scoped>\n    .dataframe tbody tr th:only-of-type {\n        vertical-align: middle;\n    }\n\n    .dataframe tbody tr th {\n        vertical-align: top;\n    }\n\n    .dataframe thead th {\n        text-align: right;\n    }\n</style>\n<table border=\"1\" class=\"dataframe\">\n  <thead>\n    <tr style=\"text-align: right;\">\n      <th></th>\n      <th>동</th>\n      <th>15년도</th>\n      <th>16년도</th>\n      <th>17년도</th>\n    </tr>\n  </thead>\n  <tbody>\n    <tr>\n      <th>0</th>\n      <td>계동길</td>\n      <td>207844</td>\n      <td>170226</td>\n      <td>143968</td>\n    </tr>\n    <tr>\n      <th>1</th>\n      <td>난계로27길</td>\n      <td>123899</td>\n      <td>160987</td>\n      <td>125576</td>\n    </tr>\n    <tr>\n      <th>2</th>\n      <td>돈화문로11가길</td>\n      <td>235473</td>\n      <td>225870</td>\n      <td>255062</td>\n    </tr>\n    <tr>\n      <th>3</th>\n      <td>명륜길</td>\n      <td>160483</td>\n      <td>154515</td>\n      <td>152953</td>\n    </tr>\n    <tr>\n      <th>4</th>\n      <td>백석동길</td>\n      <td>89782</td>\n      <td>107941</td>\n      <td>99467</td>\n    </tr>\n    <tr>\n      <th>...</th>\n      <td>...</td>\n      <td>...</td>\n      <td>...</td>\n      <td>...</td>\n    </tr>\n    <tr>\n      <th>1005</th>\n      <td>천호대로197길</td>\n      <td>99478</td>\n      <td>110465</td>\n      <td>108907</td>\n    </tr>\n    <tr>\n      <th>1006</th>\n      <td>천호대로219길</td>\n      <td>57980</td>\n      <td>73740</td>\n      <td>78006</td>\n    </tr>\n    <tr>\n      <th>1007</th>\n      <td>천호옛14길</td>\n      <td>118404</td>\n      <td>103862</td>\n      <td>102767</td>\n    </tr>\n    <tr>\n      <th>1008</th>\n      <td>천호옛길</td>\n      <td>118404</td>\n      <td>103862</td>\n      <td>102767</td>\n    </tr>\n    <tr>\n      <th>1009</th>\n      <td>풍성로37가길</td>\n      <td>118404</td>\n      <td>103862</td>\n      <td>102767</td>\n    </tr>\n  </tbody>\n</table>\n<p>1010 rows × 4 columns</p>\n</div>"
     },
     "metadata": {},
     "execution_count": 12
    }
   ],
   "source": [
    "df2"
   ]
  },
  {
   "cell_type": "code",
   "execution_count": 13,
   "metadata": {},
   "outputs": [],
   "source": [
    "df3=pd.merge(df2,df).set_index('동')"
   ]
  },
  {
   "cell_type": "code",
   "execution_count": 14,
   "metadata": {},
   "outputs": [
    {
     "output_type": "execute_result",
     "data": {
      "text/plain": [
       "            15년도    16년도    17년도    18년도    19년도\n",
       "동                                               \n",
       "계동길       207844  170226  143968  164337  134200\n",
       "난계로27길    123899  160987  125576  169559  128987\n",
       "돈화문로11가길  235473  225870  255062  257637  271591\n",
       "명륜길       160483  154515  152953  145130  168065\n",
       "백석동길       89782  107941   99467  122674   99955\n",
       "...          ...     ...     ...     ...     ...\n",
       "천호대로197길   99478  110465  108907  108313  115451\n",
       "천호대로219길   57980   73740   78006   81857   77462\n",
       "천호옛14길    118404  103862  102767  115232  114348\n",
       "천호옛길      118404  103862  102767  115232  114348\n",
       "풍성로37가길   118404  103862  102767  115232  114348\n",
       "\n",
       "[1010 rows x 5 columns]"
      ],
      "text/html": "<div>\n<style scoped>\n    .dataframe tbody tr th:only-of-type {\n        vertical-align: middle;\n    }\n\n    .dataframe tbody tr th {\n        vertical-align: top;\n    }\n\n    .dataframe thead th {\n        text-align: right;\n    }\n</style>\n<table border=\"1\" class=\"dataframe\">\n  <thead>\n    <tr style=\"text-align: right;\">\n      <th></th>\n      <th>15년도</th>\n      <th>16년도</th>\n      <th>17년도</th>\n      <th>18년도</th>\n      <th>19년도</th>\n    </tr>\n    <tr>\n      <th>동</th>\n      <th></th>\n      <th></th>\n      <th></th>\n      <th></th>\n      <th></th>\n    </tr>\n  </thead>\n  <tbody>\n    <tr>\n      <th>계동길</th>\n      <td>207844</td>\n      <td>170226</td>\n      <td>143968</td>\n      <td>164337</td>\n      <td>134200</td>\n    </tr>\n    <tr>\n      <th>난계로27길</th>\n      <td>123899</td>\n      <td>160987</td>\n      <td>125576</td>\n      <td>169559</td>\n      <td>128987</td>\n    </tr>\n    <tr>\n      <th>돈화문로11가길</th>\n      <td>235473</td>\n      <td>225870</td>\n      <td>255062</td>\n      <td>257637</td>\n      <td>271591</td>\n    </tr>\n    <tr>\n      <th>명륜길</th>\n      <td>160483</td>\n      <td>154515</td>\n      <td>152953</td>\n      <td>145130</td>\n      <td>168065</td>\n    </tr>\n    <tr>\n      <th>백석동길</th>\n      <td>89782</td>\n      <td>107941</td>\n      <td>99467</td>\n      <td>122674</td>\n      <td>99955</td>\n    </tr>\n    <tr>\n      <th>...</th>\n      <td>...</td>\n      <td>...</td>\n      <td>...</td>\n      <td>...</td>\n      <td>...</td>\n    </tr>\n    <tr>\n      <th>천호대로197길</th>\n      <td>99478</td>\n      <td>110465</td>\n      <td>108907</td>\n      <td>108313</td>\n      <td>115451</td>\n    </tr>\n    <tr>\n      <th>천호대로219길</th>\n      <td>57980</td>\n      <td>73740</td>\n      <td>78006</td>\n      <td>81857</td>\n      <td>77462</td>\n    </tr>\n    <tr>\n      <th>천호옛14길</th>\n      <td>118404</td>\n      <td>103862</td>\n      <td>102767</td>\n      <td>115232</td>\n      <td>114348</td>\n    </tr>\n    <tr>\n      <th>천호옛길</th>\n      <td>118404</td>\n      <td>103862</td>\n      <td>102767</td>\n      <td>115232</td>\n      <td>114348</td>\n    </tr>\n    <tr>\n      <th>풍성로37가길</th>\n      <td>118404</td>\n      <td>103862</td>\n      <td>102767</td>\n      <td>115232</td>\n      <td>114348</td>\n    </tr>\n  </tbody>\n</table>\n<p>1010 rows × 5 columns</p>\n</div>"
     },
     "metadata": {},
     "execution_count": 14
    }
   ],
   "source": [
    "df3"
   ]
  },
  {
   "cell_type": "code",
   "execution_count": 15,
   "metadata": {},
   "outputs": [
    {
     "output_type": "stream",
     "name": "stdout",
     "text": [
      "<class 'pandas.core.frame.DataFrame'>\nIndex: 1010 entries, 계동길 to 풍성로37가길\nData columns (total 5 columns):\n #   Column  Non-Null Count  Dtype \n---  ------  --------------  ----- \n 0   15년도    1010 non-null   object\n 1   16년도    1010 non-null   object\n 2   17년도    1010 non-null   object\n 3   18년도    1010 non-null   object\n 4   19년도    1010 non-null   object\ndtypes: object(5)\nmemory usage: 47.3+ KB\n"
     ]
    }
   ],
   "source": [
    "df3.info()"
   ]
  },
  {
   "cell_type": "code",
   "execution_count": 16,
   "metadata": {},
   "outputs": [],
   "source": [
    "# X=df3[['15년도','16년도','17년도','18년도','19년도']]\n",
    "# y=df3[['동']]"
   ]
  },
  {
   "cell_type": "code",
   "execution_count": 17,
   "metadata": {},
   "outputs": [],
   "source": [
    "import numpy as np\n",
    "df3=df3.replace(r'^\\s+$', np.nan, regex=True).apply(pd.to_numeric)"
   ]
  },
  {
   "cell_type": "code",
   "execution_count": 18,
   "metadata": {},
   "outputs": [
    {
     "output_type": "stream",
     "name": "stdout",
     "text": [
      "<class 'pandas.core.frame.DataFrame'>\nIndex: 1010 entries, 계동길 to 풍성로37가길\nData columns (total 5 columns):\n #   Column  Non-Null Count  Dtype  \n---  ------  --------------  -----  \n 0   15년도    980 non-null    float64\n 1   16년도    1001 non-null   float64\n 2   17년도    1007 non-null   float64\n 3   18년도    1010 non-null   int64  \n 4   19년도    1009 non-null   float64\ndtypes: float64(4), int64(1)\nmemory usage: 47.3+ KB\n"
     ]
    }
   ],
   "source": [
    "df3.info()"
   ]
  },
  {
   "cell_type": "code",
   "execution_count": 19,
   "metadata": {},
   "outputs": [],
   "source": [
    "# df3['15년도']=pd.to_numeric(df3['15년도'])\n",
    "# df3['16년도']=pd.to_numeric(df3['16년도'])\n",
    "# df3['17년도']=pd.to_numeric(df3['17년도'])\n",
    "# df3['18년도']=pd.to_numeric(df3['18년도'])\n",
    "# df3['19년도']=pd.to_numeric(df3['19년도'])"
   ]
  },
  {
   "cell_type": "code",
   "execution_count": 20,
   "metadata": {},
   "outputs": [
    {
     "output_type": "execute_result",
     "data": {
      "text/plain": [
       "15년도    30\n",
       "16년도     9\n",
       "17년도     3\n",
       "18년도     0\n",
       "19년도     1\n",
       "dtype: int64"
      ]
     },
     "metadata": {},
     "execution_count": 20
    }
   ],
   "source": [
    "df3.isnull().sum()"
   ]
  },
  {
   "cell_type": "code",
   "execution_count": 21,
   "metadata": {},
   "outputs": [],
   "source": [
    "import numpy as np\n",
    "for i in range(len(df3.columns)):\n",
    "    df3.iloc[:,i] = df3.iloc[:,i].replace(np.nan, np.mean(df3.iloc[:,i]))"
   ]
  },
  {
   "cell_type": "code",
   "execution_count": 22,
   "metadata": {},
   "outputs": [],
   "source": [
    "df3=df3.astype(int)"
   ]
  },
  {
   "cell_type": "code",
   "execution_count": 23,
   "metadata": {},
   "outputs": [
    {
     "output_type": "execute_result",
     "data": {
      "text/plain": [
       "            15년도    16년도    17년도    18년도    19년도\n",
       "동                                               \n",
       "계동길       207844  170226  143968  164337  134200\n",
       "난계로27길    123899  160987  125576  169559  128987\n",
       "돈화문로11가길  235473  225870  255062  257637  271591\n",
       "명륜길       160483  154515  152953  145130  168065\n",
       "백석동길       89782  107941   99467  122674   99955\n",
       "...          ...     ...     ...     ...     ...\n",
       "천호대로197길   99478  110465  108907  108313  115451\n",
       "천호대로219길   57980   73740   78006   81857   77462\n",
       "천호옛14길    118404  103862  102767  115232  114348\n",
       "천호옛길      118404  103862  102767  115232  114348\n",
       "풍성로37가길   118404  103862  102767  115232  114348\n",
       "\n",
       "[1010 rows x 5 columns]"
      ],
      "text/html": "<div>\n<style scoped>\n    .dataframe tbody tr th:only-of-type {\n        vertical-align: middle;\n    }\n\n    .dataframe tbody tr th {\n        vertical-align: top;\n    }\n\n    .dataframe thead th {\n        text-align: right;\n    }\n</style>\n<table border=\"1\" class=\"dataframe\">\n  <thead>\n    <tr style=\"text-align: right;\">\n      <th></th>\n      <th>15년도</th>\n      <th>16년도</th>\n      <th>17년도</th>\n      <th>18년도</th>\n      <th>19년도</th>\n    </tr>\n    <tr>\n      <th>동</th>\n      <th></th>\n      <th></th>\n      <th></th>\n      <th></th>\n      <th></th>\n    </tr>\n  </thead>\n  <tbody>\n    <tr>\n      <th>계동길</th>\n      <td>207844</td>\n      <td>170226</td>\n      <td>143968</td>\n      <td>164337</td>\n      <td>134200</td>\n    </tr>\n    <tr>\n      <th>난계로27길</th>\n      <td>123899</td>\n      <td>160987</td>\n      <td>125576</td>\n      <td>169559</td>\n      <td>128987</td>\n    </tr>\n    <tr>\n      <th>돈화문로11가길</th>\n      <td>235473</td>\n      <td>225870</td>\n      <td>255062</td>\n      <td>257637</td>\n      <td>271591</td>\n    </tr>\n    <tr>\n      <th>명륜길</th>\n      <td>160483</td>\n      <td>154515</td>\n      <td>152953</td>\n      <td>145130</td>\n      <td>168065</td>\n    </tr>\n    <tr>\n      <th>백석동길</th>\n      <td>89782</td>\n      <td>107941</td>\n      <td>99467</td>\n      <td>122674</td>\n      <td>99955</td>\n    </tr>\n    <tr>\n      <th>...</th>\n      <td>...</td>\n      <td>...</td>\n      <td>...</td>\n      <td>...</td>\n      <td>...</td>\n    </tr>\n    <tr>\n      <th>천호대로197길</th>\n      <td>99478</td>\n      <td>110465</td>\n      <td>108907</td>\n      <td>108313</td>\n      <td>115451</td>\n    </tr>\n    <tr>\n      <th>천호대로219길</th>\n      <td>57980</td>\n      <td>73740</td>\n      <td>78006</td>\n      <td>81857</td>\n      <td>77462</td>\n    </tr>\n    <tr>\n      <th>천호옛14길</th>\n      <td>118404</td>\n      <td>103862</td>\n      <td>102767</td>\n      <td>115232</td>\n      <td>114348</td>\n    </tr>\n    <tr>\n      <th>천호옛길</th>\n      <td>118404</td>\n      <td>103862</td>\n      <td>102767</td>\n      <td>115232</td>\n      <td>114348</td>\n    </tr>\n    <tr>\n      <th>풍성로37가길</th>\n      <td>118404</td>\n      <td>103862</td>\n      <td>102767</td>\n      <td>115232</td>\n      <td>114348</td>\n    </tr>\n  </tbody>\n</table>\n<p>1010 rows × 5 columns</p>\n</div>"
     },
     "metadata": {},
     "execution_count": 23
    }
   ],
   "source": [
    "df3"
   ]
  },
  {
   "cell_type": "code",
   "execution_count": 24,
   "metadata": {},
   "outputs": [],
   "source": [
    "# df4=df3.reset_index()"
   ]
  },
  {
   "cell_type": "code",
   "execution_count": 25,
   "metadata": {},
   "outputs": [],
   "source": [
    "# df5=df3.reset_index(inplace=True)"
   ]
  },
  {
   "cell_type": "code",
   "execution_count": 26,
   "metadata": {},
   "outputs": [
    {
     "output_type": "execute_result",
     "data": {
      "text/plain": [
       "            15년도    16년도    17년도    18년도    19년도\n",
       "동                                               \n",
       "계동길       207844  170226  143968  164337  134200\n",
       "난계로27길    123899  160987  125576  169559  128987\n",
       "돈화문로11가길  235473  225870  255062  257637  271591\n",
       "명륜길       160483  154515  152953  145130  168065\n",
       "백석동길       89782  107941   99467  122674   99955\n",
       "...          ...     ...     ...     ...     ...\n",
       "천호대로197길   99478  110465  108907  108313  115451\n",
       "천호대로219길   57980   73740   78006   81857   77462\n",
       "천호옛14길    118404  103862  102767  115232  114348\n",
       "천호옛길      118404  103862  102767  115232  114348\n",
       "풍성로37가길   118404  103862  102767  115232  114348\n",
       "\n",
       "[1010 rows x 5 columns]"
      ],
      "text/html": "<div>\n<style scoped>\n    .dataframe tbody tr th:only-of-type {\n        vertical-align: middle;\n    }\n\n    .dataframe tbody tr th {\n        vertical-align: top;\n    }\n\n    .dataframe thead th {\n        text-align: right;\n    }\n</style>\n<table border=\"1\" class=\"dataframe\">\n  <thead>\n    <tr style=\"text-align: right;\">\n      <th></th>\n      <th>15년도</th>\n      <th>16년도</th>\n      <th>17년도</th>\n      <th>18년도</th>\n      <th>19년도</th>\n    </tr>\n    <tr>\n      <th>동</th>\n      <th></th>\n      <th></th>\n      <th></th>\n      <th></th>\n      <th></th>\n    </tr>\n  </thead>\n  <tbody>\n    <tr>\n      <th>계동길</th>\n      <td>207844</td>\n      <td>170226</td>\n      <td>143968</td>\n      <td>164337</td>\n      <td>134200</td>\n    </tr>\n    <tr>\n      <th>난계로27길</th>\n      <td>123899</td>\n      <td>160987</td>\n      <td>125576</td>\n      <td>169559</td>\n      <td>128987</td>\n    </tr>\n    <tr>\n      <th>돈화문로11가길</th>\n      <td>235473</td>\n      <td>225870</td>\n      <td>255062</td>\n      <td>257637</td>\n      <td>271591</td>\n    </tr>\n    <tr>\n      <th>명륜길</th>\n      <td>160483</td>\n      <td>154515</td>\n      <td>152953</td>\n      <td>145130</td>\n      <td>168065</td>\n    </tr>\n    <tr>\n      <th>백석동길</th>\n      <td>89782</td>\n      <td>107941</td>\n      <td>99467</td>\n      <td>122674</td>\n      <td>99955</td>\n    </tr>\n    <tr>\n      <th>...</th>\n      <td>...</td>\n      <td>...</td>\n      <td>...</td>\n      <td>...</td>\n      <td>...</td>\n    </tr>\n    <tr>\n      <th>천호대로197길</th>\n      <td>99478</td>\n      <td>110465</td>\n      <td>108907</td>\n      <td>108313</td>\n      <td>115451</td>\n    </tr>\n    <tr>\n      <th>천호대로219길</th>\n      <td>57980</td>\n      <td>73740</td>\n      <td>78006</td>\n      <td>81857</td>\n      <td>77462</td>\n    </tr>\n    <tr>\n      <th>천호옛14길</th>\n      <td>118404</td>\n      <td>103862</td>\n      <td>102767</td>\n      <td>115232</td>\n      <td>114348</td>\n    </tr>\n    <tr>\n      <th>천호옛길</th>\n      <td>118404</td>\n      <td>103862</td>\n      <td>102767</td>\n      <td>115232</td>\n      <td>114348</td>\n    </tr>\n    <tr>\n      <th>풍성로37가길</th>\n      <td>118404</td>\n      <td>103862</td>\n      <td>102767</td>\n      <td>115232</td>\n      <td>114348</td>\n    </tr>\n  </tbody>\n</table>\n<p>1010 rows × 5 columns</p>\n</div>"
     },
     "metadata": {},
     "execution_count": 26
    }
   ],
   "source": [
    "df3"
   ]
  },
  {
   "cell_type": "code",
   "execution_count": 27,
   "metadata": {},
   "outputs": [],
   "source": [
    "# df3.reset_index(inplace=True)"
   ]
  },
  {
   "cell_type": "code",
   "execution_count": 31,
   "metadata": {},
   "outputs": [
    {
     "output_type": "execute_result",
     "data": {
      "text/plain": [
       "            15년도    16년도    17년도    18년도    19년도\n",
       "동                                               \n",
       "계동길       207844  170226  143968  164337  134200\n",
       "난계로27길    123899  160987  125576  169559  128987\n",
       "돈화문로11가길  235473  225870  255062  257637  271591\n",
       "명륜길       160483  154515  152953  145130  168065\n",
       "백석동길       89782  107941   99467  122674   99955\n",
       "...          ...     ...     ...     ...     ...\n",
       "천호대로197길   99478  110465  108907  108313  115451\n",
       "천호대로219길   57980   73740   78006   81857   77462\n",
       "천호옛14길    118404  103862  102767  115232  114348\n",
       "천호옛길      118404  103862  102767  115232  114348\n",
       "풍성로37가길   118404  103862  102767  115232  114348\n",
       "\n",
       "[1010 rows x 5 columns]"
      ],
      "text/html": "<div>\n<style scoped>\n    .dataframe tbody tr th:only-of-type {\n        vertical-align: middle;\n    }\n\n    .dataframe tbody tr th {\n        vertical-align: top;\n    }\n\n    .dataframe thead th {\n        text-align: right;\n    }\n</style>\n<table border=\"1\" class=\"dataframe\">\n  <thead>\n    <tr style=\"text-align: right;\">\n      <th></th>\n      <th>15년도</th>\n      <th>16년도</th>\n      <th>17년도</th>\n      <th>18년도</th>\n      <th>19년도</th>\n    </tr>\n    <tr>\n      <th>동</th>\n      <th></th>\n      <th></th>\n      <th></th>\n      <th></th>\n      <th></th>\n    </tr>\n  </thead>\n  <tbody>\n    <tr>\n      <th>계동길</th>\n      <td>207844</td>\n      <td>170226</td>\n      <td>143968</td>\n      <td>164337</td>\n      <td>134200</td>\n    </tr>\n    <tr>\n      <th>난계로27길</th>\n      <td>123899</td>\n      <td>160987</td>\n      <td>125576</td>\n      <td>169559</td>\n      <td>128987</td>\n    </tr>\n    <tr>\n      <th>돈화문로11가길</th>\n      <td>235473</td>\n      <td>225870</td>\n      <td>255062</td>\n      <td>257637</td>\n      <td>271591</td>\n    </tr>\n    <tr>\n      <th>명륜길</th>\n      <td>160483</td>\n      <td>154515</td>\n      <td>152953</td>\n      <td>145130</td>\n      <td>168065</td>\n    </tr>\n    <tr>\n      <th>백석동길</th>\n      <td>89782</td>\n      <td>107941</td>\n      <td>99467</td>\n      <td>122674</td>\n      <td>99955</td>\n    </tr>\n    <tr>\n      <th>...</th>\n      <td>...</td>\n      <td>...</td>\n      <td>...</td>\n      <td>...</td>\n      <td>...</td>\n    </tr>\n    <tr>\n      <th>천호대로197길</th>\n      <td>99478</td>\n      <td>110465</td>\n      <td>108907</td>\n      <td>108313</td>\n      <td>115451</td>\n    </tr>\n    <tr>\n      <th>천호대로219길</th>\n      <td>57980</td>\n      <td>73740</td>\n      <td>78006</td>\n      <td>81857</td>\n      <td>77462</td>\n    </tr>\n    <tr>\n      <th>천호옛14길</th>\n      <td>118404</td>\n      <td>103862</td>\n      <td>102767</td>\n      <td>115232</td>\n      <td>114348</td>\n    </tr>\n    <tr>\n      <th>천호옛길</th>\n      <td>118404</td>\n      <td>103862</td>\n      <td>102767</td>\n      <td>115232</td>\n      <td>114348</td>\n    </tr>\n    <tr>\n      <th>풍성로37가길</th>\n      <td>118404</td>\n      <td>103862</td>\n      <td>102767</td>\n      <td>115232</td>\n      <td>114348</td>\n    </tr>\n  </tbody>\n</table>\n<p>1010 rows × 5 columns</p>\n</div>"
     },
     "metadata": {},
     "execution_count": 31
    }
   ],
   "source": [
    "df3"
   ]
  },
  {
   "cell_type": "code",
   "execution_count": 69,
   "metadata": {},
   "outputs": [
    {
     "output_type": "execute_result",
     "data": {
      "text/plain": [
       "            15년도    16년도    17년도    18년도    19년도\n",
       "동                                               \n",
       "계동길       207844  170226  143968  164337  134200\n",
       "난계로27길    123899  160987  125576  169559  128987\n",
       "돈화문로11가길  235473  225870  255062  257637  271591\n",
       "명륜길       160483  154515  152953  145130  168065\n",
       "백석동길       89782  107941   99467  122674   99955\n",
       "...          ...     ...     ...     ...     ...\n",
       "천호대로197길   99478  110465  108907  108313  115451\n",
       "천호대로219길   57980   73740   78006   81857   77462\n",
       "천호옛14길    118404  103862  102767  115232  114348\n",
       "천호옛길      118404  103862  102767  115232  114348\n",
       "풍성로37가길   118404  103862  102767  115232  114348\n",
       "\n",
       "[1010 rows x 5 columns]"
      ],
      "text/html": "<div>\n<style scoped>\n    .dataframe tbody tr th:only-of-type {\n        vertical-align: middle;\n    }\n\n    .dataframe tbody tr th {\n        vertical-align: top;\n    }\n\n    .dataframe thead th {\n        text-align: right;\n    }\n</style>\n<table border=\"1\" class=\"dataframe\">\n  <thead>\n    <tr style=\"text-align: right;\">\n      <th></th>\n      <th>15년도</th>\n      <th>16년도</th>\n      <th>17년도</th>\n      <th>18년도</th>\n      <th>19년도</th>\n    </tr>\n    <tr>\n      <th>동</th>\n      <th></th>\n      <th></th>\n      <th></th>\n      <th></th>\n      <th></th>\n    </tr>\n  </thead>\n  <tbody>\n    <tr>\n      <th>계동길</th>\n      <td>207844</td>\n      <td>170226</td>\n      <td>143968</td>\n      <td>164337</td>\n      <td>134200</td>\n    </tr>\n    <tr>\n      <th>난계로27길</th>\n      <td>123899</td>\n      <td>160987</td>\n      <td>125576</td>\n      <td>169559</td>\n      <td>128987</td>\n    </tr>\n    <tr>\n      <th>돈화문로11가길</th>\n      <td>235473</td>\n      <td>225870</td>\n      <td>255062</td>\n      <td>257637</td>\n      <td>271591</td>\n    </tr>\n    <tr>\n      <th>명륜길</th>\n      <td>160483</td>\n      <td>154515</td>\n      <td>152953</td>\n      <td>145130</td>\n      <td>168065</td>\n    </tr>\n    <tr>\n      <th>백석동길</th>\n      <td>89782</td>\n      <td>107941</td>\n      <td>99467</td>\n      <td>122674</td>\n      <td>99955</td>\n    </tr>\n    <tr>\n      <th>...</th>\n      <td>...</td>\n      <td>...</td>\n      <td>...</td>\n      <td>...</td>\n      <td>...</td>\n    </tr>\n    <tr>\n      <th>천호대로197길</th>\n      <td>99478</td>\n      <td>110465</td>\n      <td>108907</td>\n      <td>108313</td>\n      <td>115451</td>\n    </tr>\n    <tr>\n      <th>천호대로219길</th>\n      <td>57980</td>\n      <td>73740</td>\n      <td>78006</td>\n      <td>81857</td>\n      <td>77462</td>\n    </tr>\n    <tr>\n      <th>천호옛14길</th>\n      <td>118404</td>\n      <td>103862</td>\n      <td>102767</td>\n      <td>115232</td>\n      <td>114348</td>\n    </tr>\n    <tr>\n      <th>천호옛길</th>\n      <td>118404</td>\n      <td>103862</td>\n      <td>102767</td>\n      <td>115232</td>\n      <td>114348</td>\n    </tr>\n    <tr>\n      <th>풍성로37가길</th>\n      <td>118404</td>\n      <td>103862</td>\n      <td>102767</td>\n      <td>115232</td>\n      <td>114348</td>\n    </tr>\n  </tbody>\n</table>\n<p>1010 rows × 5 columns</p>\n</div>"
     },
     "metadata": {},
     "execution_count": 69
    }
   ],
   "source": [
    "import pandas as pd \n",
    "df=pd.read_csv(\"test.csv\",index_col=\"동\")\n",
    "df"
   ]
  },
  {
   "cell_type": "code",
   "execution_count": 70,
   "metadata": {},
   "outputs": [],
   "source": [
    "df.reset_index(inplace=True)"
   ]
  }
 ]
}
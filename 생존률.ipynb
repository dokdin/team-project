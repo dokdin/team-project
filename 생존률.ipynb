{
 "metadata": {
  "language_info": {
   "codemirror_mode": {
    "name": "ipython",
    "version": 3
   },
   "file_extension": ".py",
   "mimetype": "text/x-python",
   "name": "python",
   "nbconvert_exporter": "python",
   "pygments_lexer": "ipython3",
   "version": "3.7.6-final"
  },
  "orig_nbformat": 2,
  "kernelspec": {
   "name": "python3",
   "display_name": "Python 3"
  }
 },
 "nbformat": 4,
 "nbformat_minor": 2,
 "cells": [
  {
   "cell_type": "code",
   "execution_count": 10,
   "metadata": {},
   "outputs": [
    {
     "output_type": "execute_result",
     "data": {
      "text/plain": [
       "(1177, 49)"
      ]
     },
     "metadata": {},
     "execution_count": 10
    }
   ],
   "source": [
    "import pandas as pd\n",
    "df = pd.read_csv('c:/data/project2/df_merge.csv', encoding='ANSI', index_col=0)\n",
    "ku = pd.read_csv('c:/data/project2/raw/시군구상권코드.csv', encoding='ANSI', index_col=0)\n",
    "df.shape"
   ]
  },
  {
   "cell_type": "code",
   "execution_count": 11,
   "metadata": {},
   "outputs": [],
   "source": [
    "# df3 = pd.read_csv('c:/data/project2/raw/편의점수.csv', encoding='ANSI')\n",
    "# temp = pd.merge(df[df['cluster']==2], df3, on='상권코드', how='left')\n",
    "# temp[['상권코드명']].drop_duplicates()"
   ]
  },
  {
   "cell_type": "code",
   "execution_count": 12,
   "metadata": {},
   "outputs": [
    {
     "output_type": "execute_result",
     "data": {
      "text/plain": [
       "count    1177.000000\n",
       "mean       67.201696\n",
       "std        20.661359\n",
       "min         0.000000\n",
       "25%        51.219512\n",
       "50%        62.529274\n",
       "75%        81.481481\n",
       "max       100.000000\n",
       "Name: survive, dtype: float64"
      ]
     },
     "metadata": {},
     "execution_count": 12
    }
   ],
   "source": [
    "df['survive']=(1-df['폐업점포수']/(df['유사업종점포수']+df['폐업점포수']))*100\n",
    "df['survive'].describe()"
   ]
  },
  {
   "cell_type": "code",
   "execution_count": 13,
   "metadata": {},
   "outputs": [],
   "source": [
    "cluster0=df[df['cluster']==0]\n",
    "cluster1=df[df['cluster']==1]\n",
    "cluster2=df[df['cluster']==2]\n",
    "\n",
    "cluster0=cluster0[cluster0['survive']!=1]\n",
    "cluster1=cluster1[cluster1['survive']!=1]\n",
    "cluster2=cluster2[cluster2['survive']!=1]\n",
    "# print(len(cluster0))\n",
    "# print(len(cluster1))\n",
    "# print(len(cluster2))"
   ]
  },
  {
   "cell_type": "code",
   "execution_count": 14,
   "metadata": {},
   "outputs": [],
   "source": [
    "from sklearn.preprocessing import MinMaxScaler\n",
    "scaler=MinMaxScaler() # 표준화 : 평균0, 표준편차 1\n",
    "df_scaled=pd.DataFrame(scaler.fit_transform(df.iloc[:,:-2]), columns=df.columns[:-2], index=df.index)"
   ]
  },
  {
   "cell_type": "code",
   "execution_count": null,
   "metadata": {},
   "outputs": [],
   "source": []
  },
  {
   "cell_type": "code",
   "execution_count": 15,
   "metadata": {},
   "outputs": [],
   "source": [
    "cols1=['연령대30상주인구수', '아파트평균시가', '연령대30직장인구수', '관공서수', '은행수', '약국수', '백화점수', '극장수', '숙박시설수', '의료기관', '교육기관', '대중교통', '연령대20유동인구수',  '월매출평균']"
   ]
  },
  {
   "cell_type": "code",
   "execution_count": 16,
   "metadata": {},
   "outputs": [
    {
     "output_type": "stream",
     "name": "stdout",
     "text": [
      "                                 OLS Regression Results                                \n=======================================================================================\nDep. Variable:                survive   R-squared (uncentered):                   0.819\nModel:                            OLS   Adj. R-squared (uncentered):              0.817\nMethod:                 Least Squares   F-statistic:                              375.2\nDate:                Wed, 25 Nov 2020   Prob (F-statistic):                        0.00\nTime:                        15:12:33   Log-Likelihood:                         -5670.7\nNo. Observations:                1177   AIC:                                  1.137e+04\nDf Residuals:                    1163   BIC:                                  1.144e+04\nDf Model:                          14                                                  \nCovariance Type:            nonrobust                                                  \n==============================================================================\n                 coef    std err          t      P>|t|      [0.025      0.975]\n------------------------------------------------------------------------------\n연령대30상주인구수   105.8057      5.688     18.602      0.000      94.646     116.965\n아파트평균시가      248.8888     14.255     17.460      0.000     220.921     276.856\n연령대30직장인구수     2.2801     27.730      0.082      0.934     -52.125      56.686\n관공서수          24.4666      8.889      2.753      0.006       7.027      41.906\n은행수          -66.7044     21.107     -3.160      0.002    -108.116     -25.292\n약국수           56.2440     17.326      3.246      0.001      22.251      90.237\n백화점수         -14.4872     10.569     -1.371      0.171     -35.223       6.248\n극장수          -78.8942     24.034     -3.283      0.001    -126.050     -31.739\n숙박시설수         33.6428     18.498      1.819      0.069      -2.651      69.936\n의료기관         -12.9040      7.614     -1.695      0.090     -27.843       2.036\n교육기관          54.1411     12.193      4.440      0.000      30.219      78.064\n대중교통          63.0162     13.355      4.719      0.000      36.814      89.218\n연령대20유동인구수   -18.4961     26.673     -0.693      0.488     -70.829      33.837\n월매출평균        153.6050      8.223     18.681      0.000     137.472     169.738\n==============================================================================\nOmnibus:                      134.117   Durbin-Watson:                   1.608\nProb(Omnibus):                  0.000   Jarque-Bera (JB):              416.549\nSkew:                          -0.563   Prob(JB):                     3.53e-91\nKurtosis:                       5.688   Cond. No.                         10.8\n==============================================================================\n\nWarnings:\n[1] Standard Errors assume that the covariance matrix of the errors is correctly specified.\n"
     ]
    }
   ],
   "source": [
    "import statsmodels.api as sm \n",
    "X=df_scaled[cols1]\n",
    "y=df['survive']\n",
    "model=sm.OLS(y, X).fit()\n",
    "print(model.summary())"
   ]
  },
  {
   "cell_type": "code",
   "execution_count": 17,
   "metadata": {},
   "outputs": [
    {
     "output_type": "execute_result",
     "data": {
      "text/plain": [
       "    VIF Factor    features\n",
       "13    4.244140         은행수\n",
       "12    3.640945  연령대20유동인구수\n",
       "11    3.549218         약국수\n",
       "10    3.161082       숙박시설수\n",
       "9     2.965992        대중교통\n",
       "8     2.266347  연령대30상주인구수\n",
       "7     2.163971     아파트평균시가\n",
       "6     1.991578  연령대30직장인구수\n",
       "5     1.718738        관공서수\n",
       "4     1.491976         극장수"
      ],
      "text/html": "<div>\n<style scoped>\n    .dataframe tbody tr th:only-of-type {\n        vertical-align: middle;\n    }\n\n    .dataframe tbody tr th {\n        vertical-align: top;\n    }\n\n    .dataframe thead th {\n        text-align: right;\n    }\n</style>\n<table border=\"1\" class=\"dataframe\">\n  <thead>\n    <tr style=\"text-align: right;\">\n      <th></th>\n      <th>VIF Factor</th>\n      <th>features</th>\n    </tr>\n  </thead>\n  <tbody>\n    <tr>\n      <th>13</th>\n      <td>4.244140</td>\n      <td>은행수</td>\n    </tr>\n    <tr>\n      <th>12</th>\n      <td>3.640945</td>\n      <td>연령대20유동인구수</td>\n    </tr>\n    <tr>\n      <th>11</th>\n      <td>3.549218</td>\n      <td>약국수</td>\n    </tr>\n    <tr>\n      <th>10</th>\n      <td>3.161082</td>\n      <td>숙박시설수</td>\n    </tr>\n    <tr>\n      <th>9</th>\n      <td>2.965992</td>\n      <td>대중교통</td>\n    </tr>\n    <tr>\n      <th>8</th>\n      <td>2.266347</td>\n      <td>연령대30상주인구수</td>\n    </tr>\n    <tr>\n      <th>7</th>\n      <td>2.163971</td>\n      <td>아파트평균시가</td>\n    </tr>\n    <tr>\n      <th>6</th>\n      <td>1.991578</td>\n      <td>연령대30직장인구수</td>\n    </tr>\n    <tr>\n      <th>5</th>\n      <td>1.718738</td>\n      <td>관공서수</td>\n    </tr>\n    <tr>\n      <th>4</th>\n      <td>1.491976</td>\n      <td>극장수</td>\n    </tr>\n  </tbody>\n</table>\n</div>"
     },
     "metadata": {},
     "execution_count": 17
    }
   ],
   "source": [
    "from statsmodels.stats.outliers_influence import variance_inflation_factor\n",
    "vif=pd.DataFrame()\n",
    "vif['VIF Factor']=[variance_inflation_factor(X.values, i) for i in range(X.shape[1])]\n",
    "vif['features']=X.columns \n",
    "vif=vif.sort_values('VIF Factor').reset_index(drop=True)\n",
    "vif.sort_values(by='VIF Factor', ascending=False).head(10)"
   ]
  },
  {
   "cell_type": "code",
   "execution_count": 18,
   "metadata": {},
   "outputs": [],
   "source": [
    "from sklearn.preprocessing import MinMaxScaler\n",
    "scaler=MinMaxScaler() # 표준화 : 평균0, 표준편차 1\n",
    "df_scaled=pd.DataFrame(scaler.fit_transform(cluster1.iloc[:,:-2]), columns=cluster1.columns[:-2], index=cluster1.index)"
   ]
  },
  {
   "cell_type": "code",
   "execution_count": 19,
   "metadata": {},
   "outputs": [],
   "source": [
    "cols2=['개업점포수', '연령대30상주인구수', '아파트평균시가', '점포수', '개업율', '연령대30직장인구수', '관공서수', '은행수', '약국수',\n",
    "       '백화점수', '극장수', '숙박시설수', '의료기관', '교육기관', '대중교통', '연령대20유동인구수', '월매출평균']"
   ]
  },
  {
   "cell_type": "code",
   "execution_count": 20,
   "metadata": {},
   "outputs": [
    {
     "output_type": "stream",
     "name": "stdout",
     "text": [
      "                                 OLS Regression Results                                \n=======================================================================================\nDep. Variable:                survive   R-squared (uncentered):                   0.830\nModel:                            OLS   Adj. R-squared (uncentered):              0.817\nMethod:                 Least Squares   F-statistic:                              61.19\nDate:                Wed, 25 Nov 2020   Prob (F-statistic):                    6.43e-68\nTime:                        15:12:33   Log-Likelihood:                         -1064.9\nNo. Observations:                 216   AIC:                                      2162.\nDf Residuals:                     200   BIC:                                      2216.\nDf Model:                          16                                                  \nCovariance Type:            nonrobust                                                  \n==============================================================================\n                 coef    std err          t      P>|t|      [0.025      0.975]\n------------------------------------------------------------------------------\n개업점포수        -33.0155     14.180     -2.328      0.021     -60.976      -5.055\n연령대30상주인구수    86.8078     12.641      6.867      0.000      61.882     111.734\n아파트평균시가      116.0195     23.461      4.945      0.000      69.756     162.283\n점포수            6.8404     13.122      0.521      0.603     -19.034      32.715\n개업율            2.7925     26.288      0.106      0.916     -49.046      54.631\n연령대30직장인구수   -13.0419     28.559     -0.457      0.648     -69.357      43.273\n관공서수          22.2360     12.425      1.790      0.075      -2.264      46.736\n은행수           31.3652     22.366      1.402      0.162     -12.739      75.469\n약국수           35.7244     14.161      2.523      0.012       7.800      63.649\n백화점수        1.838e-13   1.36e-13      1.354      0.177   -8.39e-14    4.52e-13\n극장수            2.0278     24.499      0.083      0.934     -46.282      50.337\n숙박시설수         63.4178     22.295      2.844      0.005      19.454     107.382\n의료기관         -30.2993     18.948     -1.599      0.111     -67.663       7.065\n교육기관          21.7413     16.687      1.303      0.194     -11.164      54.647\n대중교통          20.8212     15.106      1.378      0.170      -8.966      50.608\n연령대20유동인구수    64.9842     26.149      2.485      0.014      13.421     116.548\n월매출평균         38.5235      9.362      4.115      0.000      20.062      56.985\n==============================================================================\nOmnibus:                        1.339   Durbin-Watson:                   2.041\nProb(Omnibus):                  0.512   Jarque-Bera (JB):                1.438\nSkew:                          -0.169   Prob(JB):                        0.487\nKurtosis:                       2.788   Cond. No.                     2.20e+17\n==============================================================================\n\nWarnings:\n[1] Standard Errors assume that the covariance matrix of the errors is correctly specified.\n[2] The smallest eigenvalue is 1.74e-33. This might indicate that there are\nstrong multicollinearity problems or that the design matrix is singular.\n"
     ]
    }
   ],
   "source": [
    "X=df_scaled[cols2]\n",
    "y=cluster1['survive']\n",
    "model=sm.OLS(y, X).fit()\n",
    "print(model.summary())"
   ]
  },
  {
   "cell_type": "code",
   "execution_count": 21,
   "metadata": {},
   "outputs": [
    {
     "output_type": "execute_result",
     "data": {
      "text/plain": [
       "    VIF Factor    features\n",
       "15    3.810639       개업점포수\n",
       "14    3.307748  연령대30상주인구수\n",
       "13    3.104266         개업율\n",
       "12    2.887485     아파트평균시가\n",
       "11    2.492982  연령대20유동인구수\n",
       "10    2.282770         약국수\n",
       "9     2.225085       월매출평균\n",
       "8     2.211211  연령대30직장인구수\n",
       "7     2.208689         은행수\n",
       "6     1.960490        대중교통"
      ],
      "text/html": "<div>\n<style scoped>\n    .dataframe tbody tr th:only-of-type {\n        vertical-align: middle;\n    }\n\n    .dataframe tbody tr th {\n        vertical-align: top;\n    }\n\n    .dataframe thead th {\n        text-align: right;\n    }\n</style>\n<table border=\"1\" class=\"dataframe\">\n  <thead>\n    <tr style=\"text-align: right;\">\n      <th></th>\n      <th>VIF Factor</th>\n      <th>features</th>\n    </tr>\n  </thead>\n  <tbody>\n    <tr>\n      <th>15</th>\n      <td>3.810639</td>\n      <td>개업점포수</td>\n    </tr>\n    <tr>\n      <th>14</th>\n      <td>3.307748</td>\n      <td>연령대30상주인구수</td>\n    </tr>\n    <tr>\n      <th>13</th>\n      <td>3.104266</td>\n      <td>개업율</td>\n    </tr>\n    <tr>\n      <th>12</th>\n      <td>2.887485</td>\n      <td>아파트평균시가</td>\n    </tr>\n    <tr>\n      <th>11</th>\n      <td>2.492982</td>\n      <td>연령대20유동인구수</td>\n    </tr>\n    <tr>\n      <th>10</th>\n      <td>2.282770</td>\n      <td>약국수</td>\n    </tr>\n    <tr>\n      <th>9</th>\n      <td>2.225085</td>\n      <td>월매출평균</td>\n    </tr>\n    <tr>\n      <th>8</th>\n      <td>2.211211</td>\n      <td>연령대30직장인구수</td>\n    </tr>\n    <tr>\n      <th>7</th>\n      <td>2.208689</td>\n      <td>은행수</td>\n    </tr>\n    <tr>\n      <th>6</th>\n      <td>1.960490</td>\n      <td>대중교통</td>\n    </tr>\n  </tbody>\n</table>\n</div>"
     },
     "metadata": {},
     "execution_count": 21
    }
   ],
   "source": [
    "vif=pd.DataFrame()\n",
    "vif['VIF Factor']=[variance_inflation_factor(X.values, i) for i in range(X.shape[1])]\n",
    "vif['features']=X.columns \n",
    "vif=vif.sort_values('VIF Factor').reset_index(drop=True)\n",
    "vif.sort_values(by='VIF Factor', ascending=False).head(10)"
   ]
  },
  {
   "cell_type": "code",
   "execution_count": 22,
   "metadata": {},
   "outputs": [
    {
     "output_type": "execute_result",
     "data": {
      "text/plain": [
       "            survive\n",
       "상권코드               \n",
       "1000022  100.000000\n",
       "1000067  100.000000\n",
       "1000078  100.000000\n",
       "1000091   61.538462\n",
       "1000264   33.333333\n",
       "1000281  100.000000\n",
       "1000328  100.000000\n",
       "1000370  100.000000\n",
       "1000440  100.000000\n",
       "1000456  100.000000\n",
       "1000490  100.000000\n",
       "1000576  100.000000\n",
       "1000592  100.000000\n",
       "1000696  100.000000\n",
       "1000707   45.205479\n",
       "1000745  100.000000\n",
       "1000756  100.000000\n",
       "1000765  100.000000\n",
       "1000783   60.000000\n",
       "1001026  100.000000\n",
       "1001106   51.219512\n",
       "1001125   55.555556\n",
       "1001476   50.000000"
      ],
      "text/html": "<div>\n<style scoped>\n    .dataframe tbody tr th:only-of-type {\n        vertical-align: middle;\n    }\n\n    .dataframe tbody tr th {\n        vertical-align: top;\n    }\n\n    .dataframe thead th {\n        text-align: right;\n    }\n</style>\n<table border=\"1\" class=\"dataframe\">\n  <thead>\n    <tr style=\"text-align: right;\">\n      <th></th>\n      <th>survive</th>\n    </tr>\n    <tr>\n      <th>상권코드</th>\n      <th></th>\n    </tr>\n  </thead>\n  <tbody>\n    <tr>\n      <th>1000022</th>\n      <td>100.000000</td>\n    </tr>\n    <tr>\n      <th>1000067</th>\n      <td>100.000000</td>\n    </tr>\n    <tr>\n      <th>1000078</th>\n      <td>100.000000</td>\n    </tr>\n    <tr>\n      <th>1000091</th>\n      <td>61.538462</td>\n    </tr>\n    <tr>\n      <th>1000264</th>\n      <td>33.333333</td>\n    </tr>\n    <tr>\n      <th>1000281</th>\n      <td>100.000000</td>\n    </tr>\n    <tr>\n      <th>1000328</th>\n      <td>100.000000</td>\n    </tr>\n    <tr>\n      <th>1000370</th>\n      <td>100.000000</td>\n    </tr>\n    <tr>\n      <th>1000440</th>\n      <td>100.000000</td>\n    </tr>\n    <tr>\n      <th>1000456</th>\n      <td>100.000000</td>\n    </tr>\n    <tr>\n      <th>1000490</th>\n      <td>100.000000</td>\n    </tr>\n    <tr>\n      <th>1000576</th>\n      <td>100.000000</td>\n    </tr>\n    <tr>\n      <th>1000592</th>\n      <td>100.000000</td>\n    </tr>\n    <tr>\n      <th>1000696</th>\n      <td>100.000000</td>\n    </tr>\n    <tr>\n      <th>1000707</th>\n      <td>45.205479</td>\n    </tr>\n    <tr>\n      <th>1000745</th>\n      <td>100.000000</td>\n    </tr>\n    <tr>\n      <th>1000756</th>\n      <td>100.000000</td>\n    </tr>\n    <tr>\n      <th>1000765</th>\n      <td>100.000000</td>\n    </tr>\n    <tr>\n      <th>1000783</th>\n      <td>60.000000</td>\n    </tr>\n    <tr>\n      <th>1001026</th>\n      <td>100.000000</td>\n    </tr>\n    <tr>\n      <th>1001106</th>\n      <td>51.219512</td>\n    </tr>\n    <tr>\n      <th>1001125</th>\n      <td>55.555556</td>\n    </tr>\n    <tr>\n      <th>1001476</th>\n      <td>50.000000</td>\n    </tr>\n  </tbody>\n</table>\n</div>"
     },
     "metadata": {},
     "execution_count": 22
    }
   ],
   "source": [
    "cluster2[['survive']]"
   ]
  },
  {
   "cell_type": "code",
   "execution_count": 23,
   "metadata": {},
   "outputs": [],
   "source": [
    "scaler=MinMaxScaler() # 표준화 : 평균0, 표준편차 1\n",
    "df_scaled=pd.DataFrame(scaler.fit_transform(cluster2.iloc[:,:-2]), columns=cluster2.columns[:-2], index=cluster2.index)"
   ]
  },
  {
   "cell_type": "code",
   "execution_count": 24,
   "metadata": {},
   "outputs": [],
   "source": [
    "cols3=['연령대30상주인구수', '아파트평균시가', '연령대30직장인구수', '관공서수', '은행수', '약국수', '백화점수', '극장수', '숙박시설수', '의료기관', '교육기관', '대중교통', '연령대20유동인구수',  '월매출평균']"
   ]
  },
  {
   "cell_type": "code",
   "execution_count": 25,
   "metadata": {},
   "outputs": [
    {
     "output_type": "stream",
     "name": "stdout",
     "text": [
      "                                 OLS Regression Results                                \n=======================================================================================\nDep. Variable:                survive   R-squared (uncentered):                   0.894\nModel:                            OLS   Adj. R-squared (uncentered):              0.756\nMethod:                 Least Squares   F-statistic:                              6.488\nDate:                Wed, 25 Nov 2020   Prob (F-statistic):                     0.00278\nTime:                        15:12:33   Log-Likelihood:                         -109.85\nNo. Observations:                  23   AIC:                                      245.7\nDf Residuals:                      10   BIC:                                      260.5\nDf Model:                          13                                                  \nCovariance Type:            nonrobust                                                  \n==============================================================================\n                 coef    std err          t      P>|t|      [0.025      0.975]\n------------------------------------------------------------------------------\n연령대30상주인구수    62.9275     32.866      1.915      0.085     -10.302     136.157\n아파트평균시가       -1.9770     42.539     -0.046      0.964     -96.761      92.807\n연령대30직장인구수   132.2880    102.747      1.288      0.227     -96.647     361.223\n관공서수         -74.5254     40.369     -1.846      0.095    -164.473      15.422\n은행수          -89.9515    104.265     -0.863      0.409    -322.267     142.364\n약국수           44.2116     30.443      1.452      0.177     -23.621     112.044\n백화점수       -2.839e-14   6.66e-14     -0.426      0.679   -1.77e-13     1.2e-13\n극장수          -26.3223     52.995     -0.497      0.630    -144.403      91.759\n숙박시설수        -12.6964    108.821     -0.117      0.909    -255.164     229.771\n의료기관          21.3182     51.145      0.417      0.686     -92.640     135.276\n교육기관          27.8471     44.435      0.627      0.545     -71.160     126.854\n대중교통         -27.8419     56.257     -0.495      0.631    -153.191      97.507\n연령대20유동인구수   102.0836    117.081      0.872      0.404    -158.790     362.957\n월매출평균         58.3333     40.950      1.425      0.185     -32.908     149.575\n==============================================================================\nOmnibus:                        0.214   Durbin-Watson:                   1.514\nProb(Omnibus):                  0.898   Jarque-Bera (JB):                0.056\nSkew:                           0.100   Prob(JB):                        0.973\nKurtosis:                       2.866   Cond. No.                     2.56e+17\n==============================================================================\n\nWarnings:\n[1] Standard Errors assume that the covariance matrix of the errors is correctly specified.\n[2] The smallest eigenvalue is 3.24e-34. This might indicate that there are\nstrong multicollinearity problems or that the design matrix is singular.\n"
     ]
    }
   ],
   "source": [
    "X=df_scaled[cols3]\n",
    "y=cluster2['survive']\n",
    "model=sm.OLS(y, X).fit()\n",
    "print(model.summary())"
   ]
  },
  {
   "cell_type": "code",
   "execution_count": 26,
   "metadata": {},
   "outputs": [
    {
     "output_type": "execute_result",
     "data": {
      "text/plain": [
       "    VIF Factor    features\n",
       "12   16.259130  연령대20유동인구수\n",
       "11    9.548914  연령대30직장인구수\n",
       "10    8.415574         은행수\n",
       "9     7.192456        대중교통\n",
       "8     6.779120       숙박시설수\n",
       "7     4.214910     아파트평균시가\n",
       "6     3.808110         약국수\n",
       "5     3.375225       월매출평균\n",
       "4     3.176979  연령대30상주인구수\n",
       "3     2.764150        교육기관"
      ],
      "text/html": "<div>\n<style scoped>\n    .dataframe tbody tr th:only-of-type {\n        vertical-align: middle;\n    }\n\n    .dataframe tbody tr th {\n        vertical-align: top;\n    }\n\n    .dataframe thead th {\n        text-align: right;\n    }\n</style>\n<table border=\"1\" class=\"dataframe\">\n  <thead>\n    <tr style=\"text-align: right;\">\n      <th></th>\n      <th>VIF Factor</th>\n      <th>features</th>\n    </tr>\n  </thead>\n  <tbody>\n    <tr>\n      <th>12</th>\n      <td>16.259130</td>\n      <td>연령대20유동인구수</td>\n    </tr>\n    <tr>\n      <th>11</th>\n      <td>9.548914</td>\n      <td>연령대30직장인구수</td>\n    </tr>\n    <tr>\n      <th>10</th>\n      <td>8.415574</td>\n      <td>은행수</td>\n    </tr>\n    <tr>\n      <th>9</th>\n      <td>7.192456</td>\n      <td>대중교통</td>\n    </tr>\n    <tr>\n      <th>8</th>\n      <td>6.779120</td>\n      <td>숙박시설수</td>\n    </tr>\n    <tr>\n      <th>7</th>\n      <td>4.214910</td>\n      <td>아파트평균시가</td>\n    </tr>\n    <tr>\n      <th>6</th>\n      <td>3.808110</td>\n      <td>약국수</td>\n    </tr>\n    <tr>\n      <th>5</th>\n      <td>3.375225</td>\n      <td>월매출평균</td>\n    </tr>\n    <tr>\n      <th>4</th>\n      <td>3.176979</td>\n      <td>연령대30상주인구수</td>\n    </tr>\n    <tr>\n      <th>3</th>\n      <td>2.764150</td>\n      <td>교육기관</td>\n    </tr>\n  </tbody>\n</table>\n</div>"
     },
     "metadata": {},
     "execution_count": 26
    }
   ],
   "source": [
    "vif=pd.DataFrame()\n",
    "vif['VIF Factor']=[variance_inflation_factor(X.values, i) for i in range(X.shape[1])]\n",
    "vif['features']=X.columns \n",
    "vif=vif.sort_values('VIF Factor').reset_index(drop=True)\n",
    "vif.sort_values(by='VIF Factor', ascending=False).head(10)"
   ]
  },
  {
   "cell_type": "code",
   "execution_count": 27,
   "metadata": {},
   "outputs": [],
   "source": [
    "cols1=['연령대30상주인구수', '아파트평균시가', '연령대30직장인구수', '관공서수', '은행수', '약국수', '백화점수', '극장수', '숙박시설수', '의료기관', '교육기관', '대중교통', '연령대20유동인구수',  '월매출평균','survive']\n",
    "\n",
    "cols2=['개업점포수', '연령대30상주인구수', '아파트평균시가', '점포수', '개업율', '연령대30직장인구수', '관공서수', '은행수', '약국수', '백화점수', '극장수', '숙박시설수', '의료기관', '교육기관', '대중교통', '연령대20유동인구수', '월매출평균', 'survive']\n",
    "cluster0[cols1].to_csv('c:/data/project2/df_filtered3.csv', encoding='ANSI')\n",
    "cluster1[cols2].to_csv('c:/data/project2/df_filtered4.csv', encoding='ANSI')"
   ]
  }
 ]
}